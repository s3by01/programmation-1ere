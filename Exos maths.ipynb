{
 "cells": [
  {
   "cell_type": "code",
   "execution_count": 12,
   "metadata": {},
   "outputs": [
    {
     "data": {
      "text/plain": [
       "5"
      ]
     },
     "execution_count": 12,
     "metadata": {},
     "output_type": "execute_result"
    }
   ],
   "source": [
    "#ex 1 p. 307\n",
    "from random import *\n",
    "x=0\n",
    "def X():\n",
    "    a=randint(1,9)\n",
    "    if a<=3:\n",
    "        x=1\n",
    "    if a>=4 and a<=7:\n",
    "        x=5\n",
    "    if a==8:\n",
    "        x=10\n",
    "    if a==9:\n",
    "        x=20\n",
    "    return x\n",
    "X()"
   ]
  },
  {
   "cell_type": "code",
   "execution_count": 16,
   "metadata": {},
   "outputs": [
    {
     "name": "stdout",
     "output_type": "stream",
     "text": [
      "Nombre de simulation :20\n",
      "1\n",
      "1\n",
      "2\n",
      "1\n",
      "0\n",
      "0\n",
      "2\n",
      "1\n",
      "1\n",
      "1\n",
      "1\n",
      "0\n",
      "1\n",
      "1\n",
      "1\n",
      "1\n",
      "1\n",
      "1\n",
      "2\n",
      "1\n"
     ]
    }
   ],
   "source": [
    "#ex 2 p.107\n",
    "from random import *\n",
    "\n",
    "def Nb_Pile():\n",
    "    a=randint(0,1)\n",
    "    b=randint(0,1)\n",
    "    x=a+b\n",
    "    return x\n",
    "n=int(input(\"Nombre de simulation :\"))\n",
    "for i in range(n):\n",
    "    print(Nb_Pile())"
   ]
  },
  {
   "cell_type": "code",
   "execution_count": 26,
   "metadata": {},
   "outputs": [
    {
     "data": {
      "text/plain": [
       "1"
      ]
     },
     "execution_count": 26,
     "metadata": {},
     "output_type": "execute_result"
    }
   ],
   "source": [
    "# p.308\n",
    "def X():\n",
    "    a=randint(1,5)\n",
    "    if a<=4:\n",
    "        x=1\n",
    "    else:\n",
    "        x=0\n",
    "    return x\n",
    "X()"
   ]
  },
  {
   "cell_type": "code",
   "execution_count": 27,
   "metadata": {},
   "outputs": [
    {
     "data": {
      "text/plain": [
       "1"
      ]
     },
     "execution_count": 27,
     "metadata": {},
     "output_type": "execute_result"
    }
   ],
   "source": [
    "# p.308\n",
    "def X2():\n",
    "    a=random()\n",
    "    if a<=0.8:\n",
    "        x=1\n",
    "    else:\n",
    "        x=0\n",
    "    return x\n",
    "X2()"
   ]
  },
  {
   "cell_type": "code",
   "execution_count": 28,
   "metadata": {},
   "outputs": [
    {
     "data": {
      "text/plain": [
       "0.2"
      ]
     },
     "execution_count": 28,
     "metadata": {},
     "output_type": "execute_result"
    }
   ],
   "source": [
    "def Moyenne(n):\n",
    "    somme=0\n",
    "    for i in range(n):\n",
    "        somme=somme + X()\n",
    "        m=somme/n\n",
    "        return m\n",
    "Moyenne(5)"
   ]
  },
  {
   "cell_type": "code",
   "execution_count": 97,
   "metadata": {},
   "outputs": [
    {
     "data": {
      "text/plain": [
       "-2.4"
      ]
     },
     "execution_count": 97,
     "metadata": {},
     "output_type": "execute_result"
    }
   ],
   "source": [
    "# ex 1 p.309\n",
    "def Gain():\n",
    "    a=randint(0,10)\n",
    "    if a==1:\n",
    "        x=100\n",
    "    else:\n",
    "        x=-12\n",
    "    return x\n",
    "\n",
    "def Moyenne(n):\n",
    "    somme=0\n",
    "    for i in range(n):\n",
    "        Gain()\n",
    "        somme=somme+Gain()\n",
    "        m=somme/n\n",
    "        return m\n",
    "Moyenne(5)\n",
    "#for i in range(100):\n",
    "  #  z=Moyenne(5)\n",
    "   # print(z)"
   ]
  },
  {
   "cell_type": "code",
   "execution_count": 99,
   "metadata": {},
   "outputs": [
    {
     "name": "stdout",
     "output_type": "stream",
     "text": [
      "Taille de l'échantillon :8\n",
      "Distance =  0.7\n"
     ]
    }
   ],
   "source": [
    "Nbr=int(input(\"Taille de l'échantillon :\"))\n",
    "e=-0.8\n",
    "d=abs(Moyenne(Nbr)-e)\n",
    "print(\"Distance = \",d)"
   ]
  },
  {
   "cell_type": "code",
   "execution_count": 100,
   "metadata": {},
   "outputs": [
    {
     "name": "stdout",
     "output_type": "stream",
     "text": [
      "Taille de l'échantillon :5\n",
      "Distance =  0.6000000000000001\n"
     ]
    }
   ],
   "source": [
    "# ex 1 p.309\n",
    "def X():\n",
    "    a=randint(0,10)\n",
    "    if a==10:\n",
    "        x=1\n",
    "    else:\n",
    "        x=-1\n",
    "    return x\n",
    "\n",
    "def Moyenne(n):\n",
    "    somme=0\n",
    "    for i in range(n):\n",
    "        X()\n",
    "        somme=somme+X()\n",
    "        m=somme/n\n",
    "        return m\n",
    "Moyenne(5)\n",
    "Nbr=int(input(\"Taille de l'échantillon :\"))\n",
    "e=-0.8\n",
    "d=abs(Moyenne(Nbr)-e)\n",
    "print(\"Distance = \",d)"
   ]
  },
  {
   "cell_type": "code",
   "execution_count": 101,
   "metadata": {},
   "outputs": [
    {
     "name": "stdout",
     "output_type": "stream",
     "text": [
      "Taille de l'échantillon :1000\n",
      "Distance =  0.005\n"
     ]
    }
   ],
   "source": [
    "# ex 1 p.309\n",
    "def X():\n",
    "    a=randint(0,6)\n",
    "    if a>=5:\n",
    "        x=10\n",
    "    else:\n",
    "        x=-5\n",
    "    return x\n",
    "\n",
    "def Moyenne(n):\n",
    "    somme=0\n",
    "    for i in range(n):\n",
    "        X()\n",
    "        somme=somme+X()\n",
    "        m=somme/n\n",
    "        return m\n",
    "Moyenne(5)\n",
    "Nbr=int(input(\"Taille de l'échantillon :\"))\n",
    "e=0\n",
    "d=abs(Moyenne(Nbr)-e)\n",
    "print(\"Distance = \",d)"
   ]
  },
  {
   "cell_type": "code",
   "execution_count": null,
   "metadata": {},
   "outputs": [],
   "source": []
  }
 ],
 "metadata": {
  "kernelspec": {
   "display_name": "Python 3",
   "language": "python",
   "name": "python3"
  },
  "language_info": {
   "codemirror_mode": {
    "name": "ipython",
    "version": 3
   },
   "file_extension": ".py",
   "mimetype": "text/x-python",
   "name": "python",
   "nbconvert_exporter": "python",
   "pygments_lexer": "ipython3",
   "version": "3.7.4"
  }
 },
 "nbformat": 4,
 "nbformat_minor": 2
}

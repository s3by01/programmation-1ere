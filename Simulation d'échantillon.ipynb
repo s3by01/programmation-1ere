{
 "cells": [
  {
   "cell_type": "code",
   "execution_count": 1,
   "metadata": {},
   "outputs": [
    {
     "name": "stdout",
     "output_type": "stream",
     "text": [
      "0.01540000000000008\n",
      "0.92\n",
      "0.0040000000000000036\n",
      "0.95\n",
      "0.01949999999999985\n",
      "0.93\n",
      "0.0026999999999999247\n",
      "1.0\n",
      "0.020199999999999996\n",
      "0.98\n"
     ]
    }
   ],
   "source": [
    "from math import*\n",
    "from random import *\n",
    "\n",
    "def Distance(n):\n",
    "    somme=0\n",
    "    for k in range(n):\n",
    "        a=randint(-2,2)\n",
    "        x=a**2\n",
    "        somme=somme+x\n",
    "    m=somme/n\n",
    "    d=abs(m-2)\n",
    "    return d\n",
    "\n",
    "def Répetition(N,n):\n",
    "    s=sqrt(2.8)\n",
    "    r=0\n",
    "    for j in range(N):\n",
    "        if Distance(n)<=2*s/sqrt(n):\n",
    "            r=r+1\n",
    "    p=r/N\n",
    "    return p\n",
    "\n",
    "for i in range (5):\n",
    "    print (Distance(10000))\n",
    "    print (Répetition(100,10000))"
   ]
  },
  {
   "cell_type": "code",
   "execution_count": 3,
   "metadata": {},
   "outputs": [
    {
     "name": "stdout",
     "output_type": "stream",
     "text": [
      "0.0282\n",
      "0.96\n",
      "0.018\n",
      "0.96\n",
      "0.0399\n",
      "0.9\n",
      "0.0618\n",
      "0.96\n",
      "0.0048\n",
      "0.97\n"
     ]
    }
   ],
   "source": [
    "from math import*\n",
    "from random import *\n",
    "\n",
    "def Distance(n):\n",
    "    somme=0\n",
    "    for k in range(n):\n",
    "        a=randint(-2,2)\n",
    "        x=a*3\n",
    "        somme=somme+x\n",
    "    m=somme/n\n",
    "    d=abs(m-0)\n",
    "    return d\n",
    "\n",
    "def Répetition(N,n):\n",
    "    s=sqrt(18)\n",
    "    r=0\n",
    "    for j in range(N):\n",
    "        if Distance(n)<=2*s/sqrt(n):\n",
    "            r=r+1\n",
    "    p=r/N\n",
    "    return p\n",
    "\n",
    "for i in range (5):\n",
    "    print (Distance(10000))\n",
    "    print (Répetition(100,10000))"
   ]
  },
  {
   "cell_type": "code",
   "execution_count": 4,
   "metadata": {},
   "outputs": [
    {
     "name": "stdout",
     "output_type": "stream",
     "text": [
      "0.017300000000000093\n",
      "0.95\n",
      "0.02719999999999967\n",
      "0.92\n",
      "0.035499999999999865\n",
      "0.98\n",
      "0.000300000000000189\n",
      "0.96\n",
      "0.07819999999999983\n",
      "0.92\n"
     ]
    }
   ],
   "source": [
    "from math import*\n",
    "from random import *\n",
    "\n",
    "def Distance(n):\n",
    "    somme=0\n",
    "    for k in range(n):\n",
    "        a=randint(-3,3)\n",
    "        x=a**2\n",
    "        somme=somme+x\n",
    "    m=somme/n\n",
    "    d=abs(m-4)\n",
    "    return d\n",
    "\n",
    "def Répetition(N,n):\n",
    "    s=sqrt(12)\n",
    "    r=0\n",
    "    for j in range(N):\n",
    "        if Distance(n)<=2*s/sqrt(n):\n",
    "            r=r+1\n",
    "    p=r/N\n",
    "    return p\n",
    "\n",
    "for i in range (5):\n",
    "    print (Distance(10000))\n",
    "    print (Répetition(100,10000))"
   ]
  },
  {
   "cell_type": "code",
   "execution_count": null,
   "metadata": {},
   "outputs": [],
   "source": []
  }
 ],
 "metadata": {
  "kernelspec": {
   "display_name": "Python 3",
   "language": "python",
   "name": "python3"
  },
  "language_info": {
   "codemirror_mode": {
    "name": "ipython",
    "version": 3
   },
   "file_extension": ".py",
   "mimetype": "text/x-python",
   "name": "python",
   "nbconvert_exporter": "python",
   "pygments_lexer": "ipython3",
   "version": "3.7.4"
  }
 },
 "nbformat": 4,
 "nbformat_minor": 2
}

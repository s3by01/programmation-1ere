{
 "cells": [
  {
   "cell_type": "code",
   "execution_count": 16,
   "metadata": {},
   "outputs": [],
   "source": [
    "from fractions import Fraction as frac"
   ]
  },
  {
   "cell_type": "code",
   "execution_count": 10,
   "metadata": {},
   "outputs": [],
   "source": [
    "def U(x):\n",
    "    return 7/4+(3/4)*x"
   ]
  },
  {
   "cell_type": "code",
   "execution_count": 11,
   "metadata": {},
   "outputs": [],
   "source": [
    "U0=12"
   ]
  },
  {
   "cell_type": "code",
   "execution_count": 17,
   "metadata": {
    "scrolled": true
   },
   "outputs": [
    {
     "name": "stdout",
     "output_type": "stream",
     "text": [
      "0 12 12\n",
      "1 10.75 43/4\n",
      "2 9.8125 157/16\n",
      "3 9.109375 583/64\n",
      "4 8.58203125 2197/256\n",
      "5 8.1865234375 8383/1024\n",
      "6 7.889892578125 32317/4096\n"
     ]
    }
   ],
   "source": [
    "Un_1=U0\n",
    "for i in range(0,7):\n",
    "    print(i,Un_1, frac(Un_1))\n",
    "    Un=U(Un_1)\n",
    "    Un_1=Un"
   ]
  },
  {
   "cell_type": "code",
   "execution_count": 26,
   "metadata": {},
   "outputs": [],
   "source": [
    "def v(y):\n",
    "    return 7+5*(3/4)**y"
   ]
  },
  {
   "cell_type": "code",
   "execution_count": 30,
   "metadata": {},
   "outputs": [
    {
     "name": "stdout",
     "output_type": "stream",
     "text": [
      "0 12\n",
      "1 43/4\n",
      "2 157/16\n",
      "3 583/64\n",
      "4 2197/256\n",
      "5 8383/1024\n",
      "6 32317/4096\n"
     ]
    }
   ],
   "source": [
    "for i in range (0,7):\n",
    "    print(i, frac(v(i)))"
   ]
  },
  {
   "cell_type": "code",
   "execution_count": 31,
   "metadata": {},
   "outputs": [],
   "source": [
    "def t(c):\n",
    "    return 3*(2**c)+2*((-1)**c)"
   ]
  },
  {
   "cell_type": "code",
   "execution_count": 33,
   "metadata": {},
   "outputs": [
    {
     "name": "stdout",
     "output_type": "stream",
     "text": [
      "0 5\n",
      "1 4\n",
      "2 14\n",
      "3 22\n",
      "4 50\n",
      "5 94\n"
     ]
    }
   ],
   "source": [
    "for i in range (0,6):\n",
    "    print(i, frac(t(i)))"
   ]
  },
  {
   "cell_type": "code",
   "execution_count": 34,
   "metadata": {},
   "outputs": [],
   "source": [
    "def w(a,b):\n",
    "    return a+2*b"
   ]
  },
  {
   "cell_type": "code",
   "execution_count": 35,
   "metadata": {},
   "outputs": [],
   "source": [
    "w0=5\n",
    "w1=4"
   ]
  },
  {
   "cell_type": "code",
   "execution_count": 43,
   "metadata": {},
   "outputs": [
    {
     "name": "stdout",
     "output_type": "stream",
     "text": [
      "0 382 5 4\n",
      "1 14 4 14\n",
      "2 22 14 22\n",
      "3 50 22 50\n",
      "4 94 50 94\n",
      "5 194 94 194\n"
     ]
    }
   ],
   "source": [
    "wn_1=w0\n",
    "wn_2=w1\n",
    "for i in range (0,6):\n",
    "    wn=w(wn_2,wn_1)\n",
    "    wn_1=wn_2\n",
    "    wn_2=wn\n",
    "    print(i, frac(wn), wn_1,wn_2)"
   ]
  },
  {
   "cell_type": "code",
   "execution_count": null,
   "metadata": {},
   "outputs": [],
   "source": []
  }
 ],
 "metadata": {
  "kernelspec": {
   "display_name": "Python 3",
   "language": "python",
   "name": "python3"
  },
  "language_info": {
   "codemirror_mode": {
    "name": "ipython",
    "version": 3
   },
   "file_extension": ".py",
   "mimetype": "text/x-python",
   "name": "python",
   "nbconvert_exporter": "python",
   "pygments_lexer": "ipython3",
   "version": "3.7.4"
  }
 },
 "nbformat": 4,
 "nbformat_minor": 2
}

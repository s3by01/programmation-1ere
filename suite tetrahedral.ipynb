{
 "cells": [
  {
   "cell_type": "code",
   "execution_count": 2,
   "metadata": {},
   "outputs": [],
   "source": [
    "def somme (i):\n",
    "    return (i**2+i)/2"
   ]
  },
  {
   "cell_type": "code",
   "execution_count": 9,
   "metadata": {},
   "outputs": [
    {
     "name": "stdout",
     "output_type": "stream",
     "text": [
      "1.0 1.0\n",
      "3.0 4.0\n",
      "6.0 10.0\n",
      "10.0 20.0\n",
      "15.0 35.0\n",
      "21.0 56.0\n",
      "28.0 84.0\n",
      "36.0 120.0\n",
      "45.0 165.0\n",
      "55.0 220.0\n"
     ]
    }
   ],
   "source": [
    "s=0\n",
    "i=1\n",
    "for n in range (0,10):\n",
    "    z=somme(i)\n",
    "    s=s+z\n",
    "    i=i+1\n",
    "    print (z,s)"
   ]
  },
  {
   "cell_type": "code",
   "execution_count": null,
   "metadata": {},
   "outputs": [],
   "source": []
  }
 ],
 "metadata": {
  "kernelspec": {
   "display_name": "Python 3",
   "language": "python",
   "name": "python3"
  },
  "language_info": {
   "codemirror_mode": {
    "name": "ipython",
    "version": 3
   },
   "file_extension": ".py",
   "mimetype": "text/x-python",
   "name": "python",
   "nbconvert_exporter": "python",
   "pygments_lexer": "ipython3",
   "version": "3.7.4"
  }
 },
 "nbformat": 4,
 "nbformat_minor": 2
}

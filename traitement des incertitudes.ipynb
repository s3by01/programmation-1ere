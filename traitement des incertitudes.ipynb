{
 "cells": [
  {
   "cell_type": "code",
   "execution_count": 4,
   "metadata": {},
   "outputs": [
    {
     "name": "stdout",
     "output_type": "stream",
     "text": [
      "La vitesse de l'onde est : 41.66666666666667 ± 7.986545881885159 m/s\n",
      "L'incertitude relative sur d est : 0.1\n",
      "L'incertitude sur t est : 0.22999999999999998\n",
      "L'incertitude relative sur v est : 0.1916771011652438\n",
      "La vitesse de l'onde est : 42.85714285714286 ± 3.6736429947639073 m/s\n",
      "L'incertitude relative sur d est : 0.05\n",
      "L'incertitude sur t est : 0.12\n",
      "L'incertitude relative sur v est : 0.08571833654449117\n",
      "La vitesse de l'onde est : 43.75 ± 3.8283086690632713 m/s\n",
      "L'incertitude relative sur d est : 0.06\n",
      "L'incertitude sur t est : 0.13999999999999999\n",
      "L'incertitude relative sur v est : 0.08750419815001763\n",
      "La vitesse de l'onde est : 44.44444444444444 ± 3.9508086855640543 m/s\n",
      "L'incertitude relative sur d est : 0.07\n",
      "L'incertitude sur t est : 0.16000000000000003\n",
      "L'incertitude relative sur v est : 0.08889319542519122\n",
      "La vitesse de l'onde est : 42.857142857142854 ± 3.6736669133087414 m/s\n",
      "L'incertitude relative sur d est : 0.08\n",
      "L'incertitude sur t est : 0.18000000000000002\n",
      "L'incertitude relative sur v est : 0.08571889464387064\n",
      "La vitesse de l'onde est : 43.47826086956522 ± 3.9699471057665563 m/s\n",
      "L'incertitude relative sur d est : 0.09\n",
      "L'incertitude sur t est : 0.21000000000000002\n",
      "L'incertitude relative sur v est : 0.0913087834326308\n"
     ]
    }
   ],
   "source": [
    "def calcul_vitesse(Resultat) : #calcul la vitesse et de son incertitude, à partir d'une liste de la forme : Resultat=[d,Ud,t,Ut], renvoie le résultat sous forme de liste\n",
    "  v=Resultat[0]/Resultat[2] #calcul de la vitesse\n",
    "  Uv=v*((Resultat[1]/Resultat[0])**2+(Resultat[3]/Resultat[2])**2)**0.5\n",
    "#calcul de l'incertitude sur la vitesse\n",
    "  return([v,Uv])\n",
    " \n",
    "\n",
    "d_s = [50, 60, 70, 80, 90, 100]\n",
    "t_s = [1.2, 1.4, 1.6, 1.8, 2.1, 2.3]\n",
    "Ud = 10\n",
    "Ut = 3\n",
    "for i in range(len(d_s)):\n",
    "    d=d_s[i] #distance parcourue par l'onde\n",
    "    t=t_s[i] #durée de parcours de l'onde\n",
    "    print(\"La vitesse de l'onde est : \" + str(calcul_vitesse([d,Ud,t,Ut])[0]) +\" ± \"+str(calcul_vitesse([d,Ud,t,Ut])[1])+\" m/s\")\n",
    "    print(\"L'incertitude relative sur d est : \" + str(Ud))\n",
    "    print(\"L'incertitude sur t est : \" + str(Ut))\n",
    "    print(\"L'incertitude relative sur v est : \" + str(calcul_vitesse([d,Ud,t,Ut]) [1]/calcul_vitesse([d,Ud,t,Ut])[0])) "
   ]
  },
  {
   "cell_type": "code",
   "execution_count": 5,
   "metadata": {},
   "outputs": [
    {
     "name": "stdout",
     "output_type": "stream",
     "text": [
      "La vitesse de l'onde est : 41.66666666666667 ± 41.67431932039084 m/s\n",
      "L'incertitude relative sur d est : 50.0\n",
      "L'incertitude sur t est : 0.023\n",
      "L'incertitude relative sur v est : 1.0001836636893802\n",
      "La vitesse de l'onde est : 42.85714285714286 ± 17.860920883141386 m/s\n",
      "L'incertitude relative sur d est : 25.0\n",
      "L'incertitude sur t est : 0.012\n",
      "L'incertitude relative sur v est : 0.4167548206066323\n",
      "La vitesse de l'onde est : 43.75 ± 18.753907470448823 m/s\n",
      "L'incertitude relative sur d est : 30.0\n",
      "L'incertitude sur t est : 0.013999999999999999\n",
      "L'incertitude relative sur v est : 0.42866074218168737\n",
      "La vitesse de l'onde est : 44.44444444444444 ± 19.44845735585033 m/s\n",
      "L'incertitude relative sur d est : 35.0\n",
      "L'incertitude sur t est : 0.016\n",
      "L'incertitude relative sur v est : 0.43759029050663245\n",
      "La vitesse de l'onde est : 42.857142857142854 ± 19.051160992355495 m/s\n",
      "L'incertitude relative sur d est : 40.0\n",
      "L'incertitude sur t est : 0.018000000000000002\n",
      "L'incertitude relative sur v est : 0.44452708982162825\n",
      "La vitesse de l'onde est : 43.47826086956522 ± 19.569244263826715 m/s\n",
      "L'incertitude relative sur d est : 45.0\n",
      "L'incertitude sur t est : 0.021\n",
      "L'incertitude relative sur v est : 0.4500926180680144\n"
     ]
    }
   ],
   "source": [
    "def calcul_vitesse(Resultat) : #calcul la vitesse et de son incertitude, à partir d'une liste de la forme : Resultat=[d,Ud,t,Ut], renvoie le résultat sous forme de liste\n",
    "  v=Resultat[0]/Resultat[2] #calcul de la vitesse\n",
    "  Uv=v*((Resultat[1]/Resultat[0])**2+(Resultat[3]/Resultat[2])**2)**0.5\n",
    "#calcul de l'incertitude sur la vitesse\n",
    "  return([v,Uv])\n",
    " \n",
    "\n",
    "d_s = [50, 60, 70, 80, 90, 100]\n",
    "t_s = [1.2, 1.4, 1.6, 1.8, 2.1, 2.3]\n",
    "Ud = 10\n",
    "Ut = 3\n",
    "for i in range(len(d_s)):\n",
    "    Ud=0.5*d\n",
    "    Ut=0.01*t\n",
    "    d=d_s[i] #distance parcourue par l'onde\n",
    "    t=t_s[i] #durée de parcours de l'onde\n",
    "    print(\"La vitesse de l'onde est : \" + str(calcul_vitesse([d,Ud,t,Ut])[0]) +\" ± \"+str(calcul_vitesse([d,Ud,t,Ut])[1])+\" m/s\")\n",
    "    print(\"L'incertitude relative sur d est : \" + str(Ud))\n",
    "    print(\"L'incertitude sur t est : \" + str(Ut))\n",
    "    print(\"L'incertitude relative sur v est : \" + str(calcul_vitesse([d,Ud,t,Ut]) [1]/calcul_vitesse([d,Ud,t,Ut])[0])) "
   ]
  },
  {
   "cell_type": "code",
   "execution_count": 14,
   "metadata": {},
   "outputs": [
    {
     "name": "stdout",
     "output_type": "stream",
     "text": [
      "incertitude vitesse = 0.4500926180680144\n"
     ]
    }
   ],
   "source": [
    "print(\"incertitude vitesse =\", ((Ud/d)**2+(Ut/t)**2)**0.5)"
   ]
  },
  {
   "cell_type": "code",
   "execution_count": null,
   "metadata": {},
   "outputs": [],
   "source": []
  }
 ],
 "metadata": {
  "kernelspec": {
   "display_name": "Python 3",
   "language": "python",
   "name": "python3"
  },
  "language_info": {
   "codemirror_mode": {
    "name": "ipython",
    "version": 3
   },
   "file_extension": ".py",
   "mimetype": "text/x-python",
   "name": "python",
   "nbconvert_exporter": "python",
   "pygments_lexer": "ipython3",
   "version": "3.7.4"
  }
 },
 "nbformat": 4,
 "nbformat_minor": 2
}
